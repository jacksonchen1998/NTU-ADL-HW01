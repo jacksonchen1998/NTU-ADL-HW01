{
 "cells": [
  {
   "attachments": {},
   "cell_type": "markdown",
   "metadata": {},
   "source": [
    "# Intent Classification NTU ADL HW1 (Fall, 2022)"
   ]
  },
  {
   "cell_type": "code",
   "execution_count": 15,
   "metadata": {},
   "outputs": [
    {
     "data": {
      "text/html": [
       "<div>\n",
       "<style scoped>\n",
       "    .dataframe tbody tr th:only-of-type {\n",
       "        vertical-align: middle;\n",
       "    }\n",
       "\n",
       "    .dataframe tbody tr th {\n",
       "        vertical-align: top;\n",
       "    }\n",
       "\n",
       "    .dataframe thead th {\n",
       "        text-align: right;\n",
       "    }\n",
       "</style>\n",
       "<table border=\"1\" class=\"dataframe\">\n",
       "  <thead>\n",
       "    <tr style=\"text-align: right;\">\n",
       "      <th></th>\n",
       "      <th>text</th>\n",
       "      <th>intent</th>\n",
       "      <th>id</th>\n",
       "    </tr>\n",
       "  </thead>\n",
       "  <tbody>\n",
       "    <tr>\n",
       "      <th>0</th>\n",
       "      <td>i need you to book me a flight from ft lauderd...</td>\n",
       "      <td>book_flight</td>\n",
       "      <td>train-0</td>\n",
       "    </tr>\n",
       "    <tr>\n",
       "      <th>1</th>\n",
       "      <td>my check engine light is on and i need to take...</td>\n",
       "      <td>schedule_maintenance</td>\n",
       "      <td>train-1</td>\n",
       "    </tr>\n",
       "    <tr>\n",
       "      <th>2</th>\n",
       "      <td>is the company party on my list of reminders</td>\n",
       "      <td>reminder</td>\n",
       "      <td>train-2</td>\n",
       "    </tr>\n",
       "    <tr>\n",
       "      <th>3</th>\n",
       "      <td>are you a human</td>\n",
       "      <td>are_you_a_bot</td>\n",
       "      <td>train-3</td>\n",
       "    </tr>\n",
       "    <tr>\n",
       "      <th>4</th>\n",
       "      <td>i need to do cleaning so add it to my to do list</td>\n",
       "      <td>todo_list_update</td>\n",
       "      <td>train-4</td>\n",
       "    </tr>\n",
       "  </tbody>\n",
       "</table>\n",
       "</div>"
      ],
      "text/plain": [
       "                                                text                intent  \\\n",
       "0  i need you to book me a flight from ft lauderd...           book_flight   \n",
       "1  my check engine light is on and i need to take...  schedule_maintenance   \n",
       "2       is the company party on my list of reminders              reminder   \n",
       "3                                    are you a human         are_you_a_bot   \n",
       "4   i need to do cleaning so add it to my to do list      todo_list_update   \n",
       "\n",
       "        id  \n",
       "0  train-0  \n",
       "1  train-1  \n",
       "2  train-2  \n",
       "3  train-3  \n",
       "4  train-4  "
      ]
     },
     "execution_count": 15,
     "metadata": {},
     "output_type": "execute_result"
    }
   ],
   "source": [
    "# read json file\n",
    "import json\n",
    "import os\n",
    "import numpy as np\n",
    "import pandas as pd\n",
    "import matplotlib.pyplot as plt\n",
    "\n",
    "# read json file\n",
    "with open('./data/train.json') as f:\n",
    "    data = json.load(f)\n",
    "\n",
    "# convert json file to pandas dataframe\n",
    "df = pd.DataFrame(data)\n",
    "\n",
    "# convert pandas dataframe to csv file\n",
    "df.to_csv('data.csv', index=False)\n",
    "\n",
    "# show data\n",
    "df.head()"
   ]
  },
  {
   "cell_type": "code",
   "execution_count": 16,
   "metadata": {},
   "outputs": [
    {
     "data": {
      "text/plain": [
       "0.9208"
      ]
     },
     "execution_count": 16,
     "metadata": {},
     "output_type": "execute_result"
    }
   ],
   "source": [
    "# build a model to predict the cuisine type\n",
    "# import libraries\n",
    "from sklearn.model_selection import train_test_split\n",
    "from sklearn.feature_extraction.text import CountVectorizer\n",
    "from sklearn.linear_model import LogisticRegression\n",
    "\n",
    "# split data into training and testing data\n",
    "X_train, X_test, y_train, y_test = train_test_split(df['text'], df['intent'], random_state=0)\n",
    "\n",
    "# convert text to vector\n",
    "vect = CountVectorizer().fit(X_train)\n",
    "X_train_vectorized = vect.transform(X_train)\n",
    "\n",
    "# build a model\n",
    "model = LogisticRegression()\n",
    "model.fit(X_train_vectorized, y_train)\n",
    "\n",
    "# predict the cuisine type\n",
    "predictions = model.predict(vect.transform(X_test))\n",
    "\n",
    "# show the accuracy\n",
    "from sklearn.metrics import accuracy_score\n",
    "accuracy_score(y_test, predictions)\n"
   ]
  },
  {
   "cell_type": "code",
   "execution_count": 17,
   "metadata": {},
   "outputs": [],
   "source": [
    "# save the model\n",
    "import pickle\n",
    "pickle.dump(model, open('./model/logisticRegression.pkl', 'wb'))\n",
    "pickle.dump(vect, open('./model/vectorizer.pkl', 'wb'))"
   ]
  },
  {
   "cell_type": "code",
   "execution_count": 18,
   "metadata": {},
   "outputs": [
    {
     "data": {
      "text/html": [
       "<div>\n",
       "<style scoped>\n",
       "    .dataframe tbody tr th:only-of-type {\n",
       "        vertical-align: middle;\n",
       "    }\n",
       "\n",
       "    .dataframe tbody tr th {\n",
       "        vertical-align: top;\n",
       "    }\n",
       "\n",
       "    .dataframe thead th {\n",
       "        text-align: right;\n",
       "    }\n",
       "</style>\n",
       "<table border=\"1\" class=\"dataframe\">\n",
       "  <thead>\n",
       "    <tr style=\"text-align: right;\">\n",
       "      <th></th>\n",
       "      <th>text</th>\n",
       "      <th>intent</th>\n",
       "      <th>id</th>\n",
       "    </tr>\n",
       "  </thead>\n",
       "  <tbody>\n",
       "    <tr>\n",
       "      <th>0</th>\n",
       "      <td>how long should i cook steak for</td>\n",
       "      <td>cook_time</td>\n",
       "      <td>eval-0</td>\n",
       "    </tr>\n",
       "    <tr>\n",
       "      <th>1</th>\n",
       "      <td>please tell me how much money i have in my ban...</td>\n",
       "      <td>balance</td>\n",
       "      <td>eval-1</td>\n",
       "    </tr>\n",
       "    <tr>\n",
       "      <th>2</th>\n",
       "      <td>what is the gas level in my gas tank</td>\n",
       "      <td>gas</td>\n",
       "      <td>eval-2</td>\n",
       "    </tr>\n",
       "    <tr>\n",
       "      <th>3</th>\n",
       "      <td>how late is it now in ourense</td>\n",
       "      <td>time</td>\n",
       "      <td>eval-3</td>\n",
       "    </tr>\n",
       "    <tr>\n",
       "      <th>4</th>\n",
       "      <td>i really need to get a volkswagen car rental f...</td>\n",
       "      <td>car_rental</td>\n",
       "      <td>eval-4</td>\n",
       "    </tr>\n",
       "  </tbody>\n",
       "</table>\n",
       "</div>"
      ],
      "text/plain": [
       "                                                text      intent      id\n",
       "0                   how long should i cook steak for   cook_time  eval-0\n",
       "1  please tell me how much money i have in my ban...     balance  eval-1\n",
       "2               what is the gas level in my gas tank         gas  eval-2\n",
       "3                      how late is it now in ourense        time  eval-3\n",
       "4  i really need to get a volkswagen car rental f...  car_rental  eval-4"
      ]
     },
     "execution_count": 18,
     "metadata": {},
     "output_type": "execute_result"
    }
   ],
   "source": [
    "# use the model to predict the cuisine type\n",
    "import pickle\n",
    "import json\n",
    "import numpy as np\n",
    "\n",
    "\n",
    "# load the model\n",
    "model = pickle.load(open('./model/logisticRegression.pkl', 'rb'))\n",
    "vectorizer = pickle.load(open('./model/vectorizer.pkl', 'rb'))\n",
    "\n",
    "# read json file\n",
    "with open('./data/eval.json') as f:\n",
    "    data_e = json.load(f)\n",
    "\n",
    "# convert json file to pandas dataframe\n",
    "df_e = pd.DataFrame(data_e)\n",
    "\n",
    "# convert pandas dataframe to csv file\n",
    "df_e.to_csv('data_e.csv', index=False)\n",
    "\n",
    "# show data\n",
    "df_e.head()"
   ]
  },
  {
   "cell_type": "code",
   "execution_count": 19,
   "metadata": {},
   "outputs": [
    {
     "data": {
      "text/plain": [
       "0.8843333333333333"
      ]
     },
     "execution_count": 19,
     "metadata": {},
     "output_type": "execute_result"
    }
   ],
   "source": [
    "# predict the cuisine type\n",
    "predictions = model.predict(vectorizer.transform(df_e['text']))\n",
    "\n",
    "# show the accuracy\n",
    "from sklearn.metrics import accuracy_score\n",
    "accuracy_score(df_e['intent'], predictions)"
   ]
  },
  {
   "cell_type": "code",
   "execution_count": 20,
   "metadata": {},
   "outputs": [
    {
     "data": {
      "text/html": [
       "<div>\n",
       "<style scoped>\n",
       "    .dataframe tbody tr th:only-of-type {\n",
       "        vertical-align: middle;\n",
       "    }\n",
       "\n",
       "    .dataframe tbody tr th {\n",
       "        vertical-align: top;\n",
       "    }\n",
       "\n",
       "    .dataframe thead th {\n",
       "        text-align: right;\n",
       "    }\n",
       "</style>\n",
       "<table border=\"1\" class=\"dataframe\">\n",
       "  <thead>\n",
       "    <tr style=\"text-align: right;\">\n",
       "      <th></th>\n",
       "      <th>text</th>\n",
       "      <th>id</th>\n",
       "    </tr>\n",
       "  </thead>\n",
       "  <tbody>\n",
       "    <tr>\n",
       "      <th>0</th>\n",
       "      <td>how much are my rent and cable</td>\n",
       "      <td>test-0</td>\n",
       "    </tr>\n",
       "    <tr>\n",
       "      <th>1</th>\n",
       "      <td>i need some suggestions for dinner places tonight</td>\n",
       "      <td>test-1</td>\n",
       "    </tr>\n",
       "    <tr>\n",
       "      <th>2</th>\n",
       "      <td>can you report a lost card for me</td>\n",
       "      <td>test-2</td>\n",
       "    </tr>\n",
       "    <tr>\n",
       "      <th>3</th>\n",
       "      <td>timezone currently in mobile</td>\n",
       "      <td>test-3</td>\n",
       "    </tr>\n",
       "    <tr>\n",
       "      <th>4</th>\n",
       "      <td>tell me what to call you</td>\n",
       "      <td>test-4</td>\n",
       "    </tr>\n",
       "  </tbody>\n",
       "</table>\n",
       "</div>"
      ],
      "text/plain": [
       "                                                text      id\n",
       "0                     how much are my rent and cable  test-0\n",
       "1  i need some suggestions for dinner places tonight  test-1\n",
       "2                  can you report a lost card for me  test-2\n",
       "3                       timezone currently in mobile  test-3\n",
       "4                           tell me what to call you  test-4"
      ]
     },
     "execution_count": 20,
     "metadata": {},
     "output_type": "execute_result"
    }
   ],
   "source": [
    "# use the model to predict the cuisine type\n",
    "import pickle\n",
    "import json\n",
    "import numpy as np\n",
    "\n",
    "# read json file\n",
    "with open('./data/test.json') as f:\n",
    "    data_t = json.load(f)\n",
    "\n",
    "# convert json file to pandas dataframe\n",
    "df_t = pd.DataFrame(data_t)\n",
    "\n",
    "# convert pandas dataframe to csv file\n",
    "df_t.to_csv('data_e.csv', index=False)\n",
    "\n",
    "# show data\n",
    "df_t.head()"
   ]
  },
  {
   "cell_type": "code",
   "execution_count": 21,
   "metadata": {},
   "outputs": [],
   "source": [
    "# predict the cuisine type\n",
    "predictions = model.predict(vectorizer.transform(df_t['text']))\n",
    "\n",
    "# export the predictions to csv file as a submission\n",
    "df_t['intent'] = predictions\n",
    "\n",
    "# convert pandas dataframe to csv file with format id and intent\n",
    "df_t[['id', 'intent']].to_csv('submission.csv', index=False)"
   ]
  },
  {
   "attachments": {},
   "cell_type": "markdown",
   "metadata": {},
   "source": [
    "## Score: 0.89688\n",
    "## Private score: 0.88444"
   ]
  }
 ],
 "metadata": {
  "kernelspec": {
   "display_name": "base",
   "language": "python",
   "name": "python3"
  },
  "language_info": {
   "codemirror_mode": {
    "name": "ipython",
    "version": 3
   },
   "file_extension": ".py",
   "mimetype": "text/x-python",
   "name": "python",
   "nbconvert_exporter": "python",
   "pygments_lexer": "ipython3",
   "version": "3.9.12"
  },
  "orig_nbformat": 4,
  "vscode": {
   "interpreter": {
    "hash": "359ee23c21665437fbe71670f2b4cc12cabe3ec8c098faf869079ebcf8636aa8"
   }
  }
 },
 "nbformat": 4,
 "nbformat_minor": 2
}
